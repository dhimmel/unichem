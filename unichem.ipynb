{
 "cells": [
  {
   "cell_type": "code",
   "execution_count": 10,
   "metadata": {
    "collapsed": false
   },
   "outputs": [],
   "source": [
    "import collections\n",
    "\n",
    "import requests"
   ]
  },
  {
   "cell_type": "code",
   "execution_count": 2,
   "metadata": {
    "collapsed": false
   },
   "outputs": [],
   "source": [
    "source_dict = {\n",
    "    None: 0,\n",
    "    'chembl': 1,\n",
    "    'drugbank': 2,\n",
    "    'pdb': 3,\n",
    "    'iuphar': 4,\n",
    "    'pubchem_dotf': 5,\n",
    "    'kegg_ligand': 6,\n",
    "    'chebi': 7,\n",
    "    'nih_ncc': 8,\n",
    "    'zinc': 9,\n",
    "    'emolecules': 10,\n",
    "    'ibm': 11,\n",
    "    'atlas': 12,\n",
    "    'ibm_patents': 13,\n",
    "    'fdasrs': 14,\n",
    "    'surechembl': 15,\n",
    "    'pharmgkb': 17,\n",
    "    'hmdb': 18,\n",
    "    'selleck': 20,\n",
    "    'pubchem_tpharma': 21,\n",
    "    'pubchem': 22,\n",
    "    'mcule': 23,\n",
    "    'nmrshiftdb2': 24,\n",
    "    'lincs': 25,\n",
    "    'actor': 26,\n",
    "    'recon': 27,\n",
    "    'molport': 28,\n",
    "    'nikkaji': 29,\n",
    "    'bindingdb': 31,\n",
    "}"
   ]
  },
  {
   "cell_type": "code",
   "execution_count": 3,
   "metadata": {
    "collapsed": false
   },
   "outputs": [],
   "source": [
    "cpd_search_url = 'https://www.ebi.ac.uk/unichem/rest/cpd_search'"
   ]
  },
  {
   "cell_type": "code",
   "execution_count": 7,
   "metadata": {
    "collapsed": false
   },
   "outputs": [],
   "source": [
    "\n",
    "def connectivity_query(source, compound_id, sources = None):\n",
    "    url = '{base_url}/{src_compound_id}/{src_id}/{A}/{B}/{C}/{D}/{E}/{F}/{G}/{H}'.format(\n",
    "        base_url = cpd_search_url,\n",
    "        src_compound_id = compound_id,\n",
    "        src_id = source_dict[source],\n",
    "        A = source_dict[sources], # Sources\n",
    "        B = 0, # Pattern\n",
    "        C = 0, # Component Mapping\n",
    "        D = 0, # Frequency Block\n",
    "        E = 0, # InChI Length Block\n",
    "        F = 0, # UniChem Labels\n",
    "        G = 0, # Assignment Status\n",
    "        H = 1, # Data Structure\n",
    "    )\n",
    "    print url\n",
    "    response = requests.get(url)\n",
    "    for assignment in response.json().values():\n",
    "        header = assignment.pop(0)\n",
    "        for match in assignment:\n",
    "            yield collections.OrderedDict(zip(header, match))"
   ]
  },
  {
   "cell_type": "code",
   "execution_count": 11,
   "metadata": {
    "collapsed": false
   },
   "outputs": [
    {
     "name": "stdout",
     "output_type": "stream",
     "text": [
      "https://www.ebi.ac.uk/unichem/rest/cpd_search/FO2303MNI2/14/2/0/0/0/0/0/0/1\n"
     ]
    },
    {
     "data": {
      "text/plain": [
       "[OrderedDict([(u'src_compound_id', u'DB08908'), (u'src_id', u'2'), (u'aux_src', None), (u'assignment', u'1'), (u'label', u''), (u'C', u'0'), (u'Full_Query_InChI', u'InChI=1S/C6H8O4/c1-9-5(7)3-4-6(8)10-2/h3-4H,1-2H3/b4-3+'), (u'Full_CpdId_InChI', u'InChI=1S/C6H8O4/c1-9-5(7)3-4-6(8)10-2/h3-4H,1-2H3/b4-3+'), (u'Matching_Query_InChI', u'InChI=1S/C6H8O4/c1-9-5(7)3-4-6(8)10-2/h3-4H,1-2H3/b4-3+'), (u'Matching_CpdId_InChI', u'InChI=1S/C6H8O4/c1-9-5(7)3-4-6(8)10-2/h3-4H,1-2H3/b4-3+'), (u'p', u'0'), (u'b', u'0'), (u't', u'0'), (u'm', u'0'), (u's', u'0'), (u'i', u'0'), (u'Query_InChIKey', u'LDCRTTXIJACKKU-ONEGZZNKSA-N'), (u'CpdId_InChIKey', u'LDCRTTXIJACKKU-ONEGZZNKSA-N')])]"
      ]
     },
     "execution_count": 11,
     "metadata": {},
     "output_type": "execute_result"
    }
   ],
   "source": [
    "source = 'fdasrs'\n",
    "compound_id = 'FO2303MNI2'\n",
    "#compound_id = 'NR7O1405Q9'\n",
    "sources = 'drugbank'\n",
    "\n",
    "response = list(connectivity_query(source, compound_id, sources = sources))\n",
    "\n",
    "response"
   ]
  },
  {
   "cell_type": "code",
   "execution_count": 45,
   "metadata": {
    "collapsed": false
   },
   "outputs": [
    {
     "data": {
      "text/plain": [
       "u'DB08908'"
      ]
     },
     "execution_count": 45,
     "metadata": {},
     "output_type": "execute_result"
    }
   ],
   "source": [
    "response['1'][0]['src_matches'][0]['src_compound_id']"
   ]
  },
  {
   "cell_type": "code",
   "execution_count": null,
   "metadata": {
    "collapsed": false
   },
   "outputs": [],
   "source": []
  }
 ],
 "metadata": {
  "kernelspec": {
   "display_name": "Python 2",
   "language": "python",
   "name": "python2"
  },
  "language_info": {
   "codemirror_mode": {
    "name": "ipython",
    "version": 2
   },
   "file_extension": ".py",
   "mimetype": "text/x-python",
   "name": "python",
   "nbconvert_exporter": "python",
   "pygments_lexer": "ipython2",
   "version": "2.7.6"
  }
 },
 "nbformat": 4,
 "nbformat_minor": 0
}
