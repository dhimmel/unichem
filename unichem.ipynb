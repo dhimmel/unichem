{
 "cells": [
  {
   "cell_type": "code",
   "execution_count": 1,
   "metadata": {
    "collapsed": false
   },
   "outputs": [],
   "source": [
    "import collections\n",
    "import json\n",
    "\n",
    "import requests\n",
    "import unichem"
   ]
  },
  {
   "cell_type": "code",
   "execution_count": 2,
   "metadata": {
    "collapsed": false
   },
   "outputs": [],
   "source": [
    "source_dict = {\n",
    "    None: 0,\n",
    "    'chembl': 1,\n",
    "    'drugbank': 2,\n",
    "    'pdb': 3,\n",
    "    'iuphar': 4,\n",
    "    'pubchem_dotf': 5,\n",
    "    'kegg_ligand': 6,\n",
    "    'chebi': 7,\n",
    "    'nih_ncc': 8,\n",
    "    'zinc': 9,\n",
    "    'emolecules': 10,\n",
    "    'ibm': 11,\n",
    "    'atlas': 12,\n",
    "    'ibm_patents': 13,\n",
    "    'fdasrs': 14,\n",
    "    'surechembl': 15,\n",
    "    'pharmgkb': 17,\n",
    "    'hmdb': 18,\n",
    "    'selleck': 20,\n",
    "    'pubchem_tpharma': 21,\n",
    "    'pubchem': 22,\n",
    "    'mcule': 23,\n",
    "    'nmrshiftdb2': 24,\n",
    "    'lincs': 25,\n",
    "    'actor': 26,\n",
    "    'recon': 27,\n",
    "    'molport': 28,\n",
    "    'nikkaji': 29,\n",
    "    'bindingdb': 31,\n",
    "}"
   ]
  },
  {
   "cell_type": "code",
   "execution_count": 3,
   "metadata": {
    "collapsed": false
   },
   "outputs": [],
   "source": [
    "cpd_search_url = 'https://www.ebi.ac.uk/unichem/rest/cpd_search'"
   ]
  },
  {
   "cell_type": "code",
   "execution_count": 20,
   "metadata": {
    "collapsed": false
   },
   "outputs": [],
   "source": [
    "\n"
   ]
  },
  {
   "cell_type": "code",
   "execution_count": 15,
   "metadata": {
    "collapsed": false
   },
   "outputs": [
    {
     "name": "stdout",
     "output_type": "stream",
     "text": [
      "https://www.ebi.ac.uk/unichem/rest/cpd_search/R16CO5Y76E/14/2/0/0/0/0/0/0/1\n",
      "[\n",
      "  {\n",
      "    \"src_compound_id\": \"DB00945\", \n",
      "    \"src_id\": \"2\", \n",
      "    \"aux_src\": null, \n",
      "    \"assignment\": \"1\", \n",
      "    \"label\": \"\", \n",
      "    \"C\": \"0\", \n",
      "    \"Full_Query_InChI\": \"InChI=1S/C9H8O4/c1-6(10)13-8-5-3-2-4-7(8)9(11)12/h2-5H,1H3,(H,11,12)\", \n",
      "    \"Full_CpdId_InChI\": \"InChI=1S/C9H8O4/c1-6(10)13-8-5-3-2-4-7(8)9(11)12/h2-5H,1H3,(H,11,12)\", \n",
      "    \"Matching_Query_InChI\": \"InChI=1S/C9H8O4/c1-6(10)13-8-5-3-2-4-7(8)9(11)12/h2-5H,1H3,(H,11,12)\", \n",
      "    \"Matching_CpdId_InChI\": \"InChI=1S/C9H8O4/c1-6(10)13-8-5-3-2-4-7(8)9(11)12/h2-5H,1H3,(H,11,12)\", \n",
      "    \"p\": \"0\", \n",
      "    \"b\": \"0\", \n",
      "    \"t\": \"0\", \n",
      "    \"m\": \"0\", \n",
      "    \"s\": \"0\", \n",
      "    \"i\": \"0\", \n",
      "    \"Query_InChIKey\": \"BSYNRYMUTXBXSQ-UHFFFAOYSA-N\", \n",
      "    \"CpdId_InChIKey\": \"BSYNRYMUTXBXSQ-UHFFFAOYSA-N\"\n",
      "  }\n",
      "]\n"
     ]
    }
   ],
   "source": [
    "# DrugBank Search\n",
    "source = 'fdasrs'\n",
    "#compound_id = 'FO2303MNI2' # DIMETHYL FUMARATE\n",
    "#compound_id = 'NR7O1405Q9' # MESNA\n",
    "compound_id = 'R16CO5Y76E' # 'ASPIRIN'\n",
    "sources = 'drugbank'\n",
    "\n",
    "response = list(connectivity_query(source, compound_id, sources = sources))\n",
    "\n",
    "print(json.dumps(response, indent = 2))"
   ]
  },
  {
   "cell_type": "code",
   "execution_count": 22,
   "metadata": {
    "collapsed": false
   },
   "outputs": [
    {
     "name": "stdout",
     "output_type": "stream",
     "text": [
      "https://www.ebi.ac.uk/unichem/rest/cpd_search/R16CO5Y76E/14/0/0/0/0/0/0/0/1\n",
      "[u'2867A63C8BE7E5A6398DB6773C4F73C2', u'4264718B0C69A169C877EC2B2F4D031F', u'5794927004AB40BB662A9E3D9A59D798', u'DB938244616517D179E20E04720971A1', u'15195166', u'13719', u'15365', u'11126-35-5', u'50-78-2', u'PA448497', u'DB00945', u'450661', u'3434975', u'53699567', u'66995530', u'46780045', u'59850305', u'2244', u'76973140', u'67732322', u'53699569', u'12280114', u'71309054', u'CHEMBL447221', u'CHEMBL25', u'HMDB01879', u'MCULE-3199019536', u'J730.352A', u'J1.851.535K', u'J1.022.948K', u'J2.300K', u'J3.216.196K', u'J3.216.197I', u'J3.216.198G', u'C01405', u'LSM-5288', u'AIN', u'ZINC00000053', u'aspirin', u'acetylsalicylic acid', u'R16CO5Y76E', u'7F6Y89636M', u'aspirin-acetylsalicylic-acid', u'SCHEMBL1331740', u'SCHEMBL15067423', u'SCHEMBL14010460', u'SCHEMBL1353', u'SCHEMBL8940286', u'4139', u'20038075', u'27515673', u'474821', u'50420241', u'22360', u'24714725']\n"
     ]
    }
   ],
   "source": [
    "# PubChem Search\n",
    "\n",
    "source = 'fdasrs'\n",
    "#compound_id = 'FO2303MNI2' # DIMETHYL FUMARATE\n",
    "#compound_id = 'NR7O1405Q9' # MESNA\n",
    "compound_id = 'R16CO5Y76E' # 'ASPIRIN'\n",
    "target = 'pubchem'\n",
    "\n",
    "matches = list(connectivity_query(source, compound_id, target = None))\n",
    "\n",
    "\n",
    "\n",
    "print [x['src_compound_id'] for x in matches]"
   ]
  },
  {
   "cell_type": "code",
   "execution_count": null,
   "metadata": {
    "collapsed": false
   },
   "outputs": [],
   "source": []
  },
  {
   "cell_type": "code",
   "execution_count": null,
   "metadata": {
    "collapsed": true
   },
   "outputs": [],
   "source": []
  }
 ],
 "metadata": {
  "kernelspec": {
   "display_name": "Python 3",
   "language": "python",
   "name": "python3"
  },
  "language_info": {
   "codemirror_mode": {
    "name": "ipython",
    "version": 3
   },
   "file_extension": ".py",
   "mimetype": "text/x-python",
   "name": "python",
   "nbconvert_exporter": "python",
   "pygments_lexer": "ipython3",
   "version": "3.4.3"
  }
 },
 "nbformat": 4,
 "nbformat_minor": 0
}
